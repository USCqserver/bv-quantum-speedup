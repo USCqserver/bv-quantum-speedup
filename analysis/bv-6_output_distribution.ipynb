{
 "cells": [
  {
   "cell_type": "markdown",
   "metadata": {},
   "source": [
    "# Import data"
   ]
  },
  {
   "cell_type": "code",
   "execution_count": 2,
   "metadata": {},
   "outputs": [],
   "source": [
    "#allow for autoreload of packages\n",
    "%load_ext autoreload\n",
    "%autoreload 2"
   ]
  },
  {
   "cell_type": "code",
   "execution_count": 3,
   "metadata": {},
   "outputs": [],
   "source": [
    "import pickle\n",
    "import matplotlib.pyplot as plt\n",
    "import pandas as pd\n",
    "import warnings\n",
    "warnings.filterwarnings('ignore')"
   ]
  },
  {
   "cell_type": "code",
   "execution_count": 4,
   "metadata": {},
   "outputs": [],
   "source": [
    "from ps_from_rawdf import restrict_to_bvn, expand_bv_df_to_all_marks"
   ]
  },
  {
   "cell_type": "code",
   "execution_count": 5,
   "metadata": {},
   "outputs": [],
   "source": [
    "file = open('../data/ibm_cairo/20220412/rawdf_cairo_dd-ur18-ur42_marks-all_embedding-2.p', 'rb')\n",
    "data = pickle.load(file)\n",
    "file.close()"
   ]
  },
  {
   "cell_type": "code",
   "execution_count": 28,
   "metadata": {},
   "outputs": [],
   "source": [
    "pltfree = expand_bv_df_to_all_marks(restrict_to_bvn(data, ['free'], 6, all_counts=True))\n",
    "pltdd = expand_bv_df_to_all_marks(restrict_to_bvn(data, ['ur_18'], 6, all_counts=True))\n",
    "pltfree = pltfree.sort_index(axis=1)\n",
    "pltdd = pltdd.sort_index(axis=1)"
   ]
  },
  {
   "cell_type": "markdown",
   "metadata": {},
   "source": [
    "# Plot"
   ]
  },
  {
   "cell_type": "code",
   "execution_count": 30,
   "metadata": {},
   "outputs": [
    {
     "data": {
      "image/png": "[encoded data removed]",
      "text/html": [
       "<div style=\"vertical-align: middle;\"><strong></strong> </div><div class=\"cmap\"><img alt=\" colormap\" title=\"\" style=\"border: 1px solid #555;\" src=\"data:image/png;base64,iVBORw0KGgoAAAANSUhEUgAAAgAAAABACAYAAABsv8+/AAAAD3RFWHRUaXRsZQAgY29sb3JtYXCKlOmYAAAAFXRFWHREZXNjcmlwdGlvbgAgY29sb3JtYXAQltASAAAAMHRFWHRBdXRob3IATWF0cGxvdGxpYiB2My41LjIsIGh0dHBzOi8vbWF0cGxvdGxpYi5vcmfCWnicAAAAMnRFWHRTb2Z0d2FyZQBNYXRwbG90bGliIHYzLjUuMiwgaHR0cHM6Ly9tYXRwbG90bGliLm9yZ+z857sAAAHBSURBVHic7dZBToRAFEDB1ut4CO/k/aVdOM4ECMFRE6OvaoM00r8lLt7DnHOOMcZcljHef1hdD9c/7peD9c3z3fp39/+tuWf7/9bcs/1/bO7rZX1+cf/Xy/q8a+7t+Wb+3d/jk/OX9Zy5ef82d/0dbnMPvtPm/f3+6/m7/a/r6/f3f+/B+a/ner9/en5Z77PM9f31Ok6en72//b3xvX12z8fJ8396zrPz3T3nYL8vn3N87v2/cs7/8n9zuTwOACBHAABAkAAAgCABAABBAgAAggQAAAQJAAAIEgAAECQAACBIAABAkAAAgCABAABBAgAAggQAAAQJAAAIEgAAECQAACBIAABAkAAAgCABAABBAgAAggQAAAQJAAAIEgAAECQAACBIAABAkAAAgCABAABBAgAAggQAAAQJAAAIEgAAECQAACBIAABAkAAAgCABAABBAgAAggQAAAQJAAAIEgAAECQAACBIAABAkAAAgCABAABBAgAAggQAAAQJAAAIEgAAECQAACBIAABAkAAAgCABAABBAgAAggQAAAQJAAAIEgAAECQAACBIAABAkAAAgCABAABBAgAAggQAAAQJAAAIegN7ARudLxiP+QAAAABJRU5ErkJggg==\"></div><div style=\"vertical-align: middle; max-width: 514px; display: flex; justify-content: space-between;\"><div style=\"float: left;\"><div title=\"#ffffffff\" style=\"display: inline-block; width: 1em; height: 1em; margin: 0; vertical-align: middle; border: 1px solid #555; background-color: #ffffffff;\"></div> under</div><div style=\"margin: 0 auto; display: inline-block;\">bad <div title=\"#00000000\" style=\"display: inline-block; width: 1em; height: 1em; margin: 0; vertical-align: middle; border: 1px solid #555; background-color: #00000000;\"></div></div><div style=\"float: right;\">over <div title=\"#000000ff\" style=\"display: inline-block; width: 1em; height: 1em; margin: 0; vertical-align: middle; border: 1px solid #555; background-color: #000000ff;\"></div></div>"
      ],
      "text/plain": [
       "<matplotlib.colors.LinearSegmentedColormap at 0x7fe649181a60>"
      ]
     },
     "execution_count": 30,
     "metadata": {},
     "output_type": "execute_result"
    }
   ],
   "source": [
    "import matplotlib as mpl\n",
    "import numpy as np\n",
    "thresh = 0.5\n",
    "nodes = [0,thresh, thresh, 1.0]\n",
    "\n",
    "colors = [\"white\", \"#d55e00\", \"#009e73\", \"black\"]\n",
    "cmap = mpl.colors.LinearSegmentedColormap.from_list(\"\", list(zip(nodes, colors)))\n",
    "cmap.set_under(\"white\")\n",
    "cmap"
   ]
  },
  {
   "cell_type": "code",
   "execution_count": 31,
   "metadata": {},
   "outputs": [
    {
     "data": {
      "image/png": "[encoded data removed]",
      "text/plain": [
       "<Figure size 720x360 with 3 Axes>"
      ]
     },
     "metadata": {
      "needs_background": "light"
     },
     "output_type": "display_data"
    }
   ],
   "source": [
    "plt.rcParams[\"font.family\"] = \"Latin Modern Math\"\n",
    "plt.rcParams[\"font.size\"] = 15\n",
    "plt.rcParams[\"figure.figsize\"] = (10,5)\n",
    "plt.rcParams[\"text.usetex\"] = True\n",
    "\n",
    "n=6\n",
    "fig,axs = plt.subplots(1,2)\n",
    "xaxis = np.arange(2**n+1)[::16]\n",
    "yaxis = np.arange(2**n+1)[::16]\n",
    "\n",
    "#divnorm=colors.LogNorm(vmin=2/2**n, vmax=2/3)\n",
    "#divnorm=mpl.colors.TwoSlopeNorm(vmin=2/2**n, vcenter=0.5,vmax=2/3)\n",
    "\n",
    "axs[0].matshow(pltfree,  interpolation ='nearest',cmap =cmap, vmin=0, vmax=1.0)\n",
    "cax = axs[1].matshow(pltdd, interpolation ='nearest', cmap=cmap, vmin=0, vmax=1.0)\n",
    "axs[0].set_title(f'w/o DD = $59.9 \\pm 0.4\\%$')\n",
    "axs[1].set_title('w/ DD = $74.7 \\\\pm 0.3\\%$')\n",
    "\n",
    "axs[0].set_ylabel('Oracle Number')\n",
    "axs[0].set_xlabel('Detected State')\n",
    "axs[1].set_xlabel('Detected State')\n",
    "\n",
    "for ax in axs:\n",
    "    ax.set_xticks(xaxis)\n",
    "    ax.set_yticks(yaxis)\n",
    "    #ax.set_xticklabels(alphabets, rotation=45)\n",
    "    #ax.set_yticklabels(alphabets)\n",
    "    ax.xaxis.set_ticks_position('bottom')\n",
    "cbar_ax = fig.add_axes([0.94, 0.15, 0.02, 0.7])\n",
    "cbar = fig.colorbar(cax, cax=cbar_ax)\n",
    "cbar.set_ticks([2/2**n,0.1, 0.3, 0.5, 0.7, 0.9])\n",
    "cbar.set_ticklabels(['Classical',0.1, 0.3, 0.5, 0.7, 0.9])\n",
    "#cbar.ax.text(-0.1, 0.125, '----- Classical')\n",
    "cbar.ax.set_ylabel(\"Success Probability (\\%)\")\n",
    "cbar.ax.yaxis.set_label_position(\"left\")\n",
    "plt.savefig('../results/bv_cairo_dd_array.pdf',dpi=300, bbox_inches = \"tight\")\n",
    "plt.show()"
   ]
  }
 ],
 "metadata": {
  "interpreter": {
   "hash": "30e6bbf95c128aeb7a086e323e698e0f406da5bdf0776795592d36fc229a6ae1"
  },
  "kernelspec": {
   "display_name": "Python 3.9.12 ('py39')",
   "language": "python",
   "name": "python3"
  },
  "language_info": {
   "codemirror_mode": {
    "name": "ipython",
    "version": 3
   },
   "file_extension": ".py",
   "mimetype": "text/x-python",
   "name": "python",
   "nbconvert_exporter": "python",
   "pygments_lexer": "ipython3",
   "version": "3.9.12"
  },
  "orig_nbformat": 4
 },
 "nbformat": 4,
 "nbformat_minor": 2
}
