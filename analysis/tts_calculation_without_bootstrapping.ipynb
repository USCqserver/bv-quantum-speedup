{
 "cells": [
  {
   "cell_type": "markdown",
   "metadata": {},
   "source": [
    "This notebook shows how to compute the TTS starting from the rawdata. We focus on one of the datasets in `data/ibmq_montreal`, but it should work for any file with the prefix `rawdata`."
   ]
  },
  {
   "cell_type": "markdown",
   "metadata": {},
   "source": [
    "Steps to go from rawdata to TTS:\n",
    "1. rawdata -> rawdf\n",
    "2. rawdf -> success probabilities,\n",
    "3. rawdata -> durations\n",
    "4. durations, sucess probabilities -> tts\n"
   ]
  },
  {
   "cell_type": "markdown",
   "metadata": {},
   "source": [
    "# Imports"
   ]
  },
  {
   "cell_type": "code",
   "execution_count": 107,
   "metadata": {},
   "outputs": [
    {
     "name": "stdout",
     "output_type": "stream",
     "text": [
      "The autoreload extension is already loaded. To reload it, use:\n",
      "  %reload_ext autoreload\n"
     ]
    }
   ],
   "source": [
    "#allow for autoreload of packages\n",
    "%load_ext autoreload\n",
    "%autoreload 2"
   ]
  },
  {
   "cell_type": "code",
   "execution_count": 108,
   "metadata": {},
   "outputs": [],
   "source": [
    "import pickle\n",
    "import pandas\n",
    "from tqdm import tqdm\n",
    "import matplotlib.pyplot as plt"
   ]
  },
  {
   "cell_type": "code",
   "execution_count": 109,
   "metadata": {},
   "outputs": [],
   "source": [
    "import rawdata_to_rawdf\n",
    "import ps_from_rawdf\n",
    "import circuit_duration_from_calibration_data\n",
    "import tts_from_rawdf"
   ]
  },
  {
   "cell_type": "markdown",
   "metadata": {},
   "source": [
    "# Categorize the data by oracle (`rawdata` -> `rawdf`)"
   ]
  },
  {
   "cell_type": "code",
   "execution_count": 4,
   "metadata": {},
   "outputs": [],
   "source": [
    "machine_long = 'ibmq_montreal' #backend identifier\n",
    "machine_short = 'montreal'\n",
    "seq1 = 'ur14'\n",
    "seq2 = 'supercpmg'\n",
    "embedding = 2 #logical-to-physical embedding\n",
    "date = 20220412\n",
    "rawdata_fname = f\"./../data/{machine_long}/{date}/rawdata_{machine_short}_dd-{seq1}-{seq2}_marks-all_embedding-{embedding}.p\"\n",
    "file = open(rawdata_fname, 'rb')\n",
    "rawdata = pickle.load(file)\n",
    "file.close()"
   ]
  },
  {
   "cell_type": "markdown",
   "metadata": {},
   "source": [
    "Structure of `rawdata` files:\n",
    "\n",
    "`seq_list` : List of sequences used\n",
    "\n",
    "`data` : raw data from the backend\n",
    "\n",
    "`calibration_data` : calibration data for the backend, taken on the day of the experiment\n",
    "\n",
    "`base_circs`: ssBV-n circuits before DD sequences are superimposed\n",
    "\n",
    "`ancillas`: qubits that were identified as the ancilla"
   ]
  },
  {
   "cell_type": "code",
   "execution_count": 5,
   "metadata": {},
   "outputs": [
    {
     "data": {
      "text/plain": [
       "dict_keys(['seq_list', 'data', 'calibration_data', 'base_circs', 'ancillas'])"
      ]
     },
     "execution_count": 5,
     "metadata": {},
     "output_type": "execute_result"
    }
   ],
   "source": [
    "rawdata.keys()"
   ]
  },
  {
   "cell_type": "markdown",
   "metadata": {},
   "source": [
    "Below we use the circuit for the oracle $1^{10}$ and identify the marked and ancilla qubits for that circuit."
   ]
  },
  {
   "cell_type": "code",
   "execution_count": 10,
   "metadata": {},
   "outputs": [
    {
     "data": {
      "text/plain": [
       "[[26, 24, 23, 22, 21, 18, 17, 15, 13, 12], [25]]"
      ]
     },
     "execution_count": 10,
     "metadata": {},
     "output_type": "execute_result"
    }
   ],
   "source": [
    "qc_test = rawdata['base_circs'][10]\n",
    "rawdata_to_rawdf.bv_identify_ancilla_and_active(qc_test)"
   ]
  },
  {
   "cell_type": "markdown",
   "metadata": {},
   "source": [
    "Now we can work with the entire dataset and identify the marked and the ancilla for problem sizes. In turn, we return a pandas dataframe with columns \n",
    "`free`: ssBV results for the \"bare\" circuits\n",
    "\n",
    "sequence 1 : ssBV results under DD sequence 1 \n",
    "\n",
    "sequence 2 : ssBV results under DD sequence 2 \n",
    "\n",
    "`ancillas` : qubits treated as ancillas \n",
    "\n",
    "`marked` : qubits that are marked\n",
    "\n",
    "`remaining` : unmarked qubits\n",
    "\n",
    "Rows correspond to the marked bitstring. "
   ]
  },
  {
   "cell_type": "code",
   "execution_count": 13,
   "metadata": {},
   "outputs": [
    {
     "name": "stderr",
     "output_type": "stream",
     "text": [
      "100%|██████████| 27/27 [01:33<00:00,  3.45s/it]\n"
     ]
    }
   ],
   "source": [
    "rawdf = rawdata_to_rawdf.data_to_raw_df(rawdata)"
   ]
  },
  {
   "cell_type": "code",
   "execution_count": 14,
   "metadata": {},
   "outputs": [
    {
     "data": {
      "text/plain": [
       "Index(['free', 'ur_14', 'super_cpmg', 'ancillas', 'marked', 'remaining'], dtype='object')"
      ]
     },
     "execution_count": 14,
     "metadata": {},
     "output_type": "execute_result"
    }
   ],
   "source": [
    "rawdf.keys()"
   ]
  },
  {
   "cell_type": "markdown",
   "metadata": {},
   "source": [
    "Export `rawdf` for later use."
   ]
  },
  {
   "cell_type": "code",
   "execution_count": 15,
   "metadata": {},
   "outputs": [],
   "source": [
    "file = open(rawdata_fname.replace('rawdata', 'rawdf'), 'wb')\n",
    "rawdf2 = pickle.dump(file)\n",
    "file.close()"
   ]
  },
  {
   "cell_type": "markdown",
   "metadata": {},
   "source": [
    "# Success probabilities"
   ]
  },
  {
   "cell_type": "markdown",
   "metadata": {},
   "source": [
    "We can extract probabilities for BV-n using the information in `rawdf`. "
   ]
  },
  {
   "cell_type": "code",
   "execution_count": 34,
   "metadata": {},
   "outputs": [
    {
     "data": {
      "text/html": [
       "<div>\n",
       "<style scoped>\n",
       "    .dataframe tbody tr th:only-of-type {\n",
       "        vertical-align: middle;\n",
       "    }\n",
       "\n",
       "    .dataframe tbody tr th {\n",
       "        vertical-align: top;\n",
       "    }\n",
       "\n",
       "    .dataframe thead th {\n",
       "        text-align: right;\n",
       "    }\n",
       "</style>\n",
       "<table border=\"1\" class=\"dataframe\">\n",
       "  <thead>\n",
       "    <tr style=\"text-align: right;\">\n",
       "      <th></th>\n",
       "      <th>free</th>\n",
       "      <th>ur_14</th>\n",
       "    </tr>\n",
       "  </thead>\n",
       "  <tbody>\n",
       "    <tr>\n",
       "      <th>000</th>\n",
       "      <td>0.920312</td>\n",
       "      <td>0.956250</td>\n",
       "    </tr>\n",
       "    <tr>\n",
       "      <th>100</th>\n",
       "      <td>0.722000</td>\n",
       "      <td>0.772531</td>\n",
       "    </tr>\n",
       "    <tr>\n",
       "      <th>110</th>\n",
       "      <td>0.734219</td>\n",
       "      <td>0.720219</td>\n",
       "    </tr>\n",
       "    <tr>\n",
       "      <th>111</th>\n",
       "      <td>0.465344</td>\n",
       "      <td>0.619938</td>\n",
       "    </tr>\n",
       "  </tbody>\n",
       "</table>\n",
       "</div>"
      ],
      "text/plain": [
       "         free     ur_14\n",
       "000  0.920312  0.956250\n",
       "100  0.722000  0.772531\n",
       "110  0.734219  0.720219\n",
       "111  0.465344  0.619938"
      ]
     },
     "execution_count": 34,
     "metadata": {},
     "output_type": "execute_result"
    }
   ],
   "source": [
    "ps_from_rawdf.restrict_to_bvn(rawdf, ['free','ur_14'], n=3)"
   ]
  },
  {
   "cell_type": "markdown",
   "metadata": {},
   "source": [
    "Create a list of all output distributions like above. "
   ]
  },
  {
   "cell_type": "code",
   "execution_count": 40,
   "metadata": {},
   "outputs": [
    {
     "name": "stderr",
     "output_type": "stream",
     "text": [
      "100%|██████████| 26/26 [00:36<00:00,  1.42s/it]\n"
     ]
    }
   ],
   "source": [
    "ps_df_lst = []\n",
    "for n in tqdm(range(1,27)):\n",
    "    ps_df_lst.append(ps_from_rawdf.restrict_to_bvn(rawdf, ['free','ur_14'], n=n))"
   ]
  },
  {
   "cell_type": "markdown",
   "metadata": {},
   "source": [
    "# TTS from success probabilities"
   ]
  },
  {
   "cell_type": "markdown",
   "metadata": {},
   "source": [
    "We must know both the circuit duration and the success probabilities in order to compute the time to solution. "
   ]
  },
  {
   "cell_type": "markdown",
   "metadata": {},
   "source": [
    "## Compute circuit duration"
   ]
  },
  {
   "cell_type": "markdown",
   "metadata": {},
   "source": [
    "Example: Compute the circuit duration for oracle $1^{10}$."
   ]
  },
  {
   "cell_type": "code",
   "execution_count": 56,
   "metadata": {},
   "outputs": [],
   "source": [
    "prop = rawdata['calibration_data']\n",
    "circuits = rawdata['base_circs']"
   ]
  },
  {
   "cell_type": "code",
   "execution_count": 44,
   "metadata": {},
   "outputs": [
    {
     "data": {
      "text/plain": [
       "dict_keys(['_data', 'backend_name', 'backend_version', 'last_update_date', 'general', 'qubits', 'gates', '_qubits', '_gates'])"
      ]
     },
     "execution_count": 44,
     "metadata": {},
     "output_type": "execute_result"
    }
   ],
   "source": [
    "prop.keys()"
   ]
  },
  {
   "cell_type": "code",
   "execution_count": 58,
   "metadata": {},
   "outputs": [
    {
     "data": {
      "text/plain": [
       "58256"
      ]
     },
     "execution_count": 58,
     "metadata": {},
     "output_type": "execute_result"
    }
   ],
   "source": [
    "qc_test = circuits[10]\n",
    "circuit_duration_from_calibration_data.circuit_duration(qc_test, prop)"
   ]
  },
  {
   "cell_type": "code",
   "execution_count": 61,
   "metadata": {},
   "outputs": [
    {
     "data": {
      "text/plain": [
       "{0: 5.2728888888888885e-06,\n",
       " 1: 5.699555555555556e-06,\n",
       " 2: 6.069333333333333e-06,\n",
       " 3: 7.178666666666666e-06,\n",
       " 4: 8.195555555555556e-06,\n",
       " 5: 8.600888888888889e-06,\n",
       " 6: 9.503999999999999e-06,\n",
       " 7: 1.0442666666666666e-05,\n",
       " 8: 1.1331555555555554e-05,\n",
       " 9: 1.2334222222222222e-05,\n",
       " 10: 1.2945777777777778e-05,\n",
       " 11: 1.3955555555555555e-05,\n",
       " 12: 1.4673777777777777e-05,\n",
       " 13: 1.4944e-05,\n",
       " 14: 1.5676444444444444e-05,\n",
       " 15: 1.640888888888889e-05,\n",
       " 16: 1.7340444444444443e-05,\n",
       " 17: 1.8229333333333332e-05,\n",
       " 18: 1.8584888888888887e-05,\n",
       " 19: 1.9445333333333332e-05,\n",
       " 20: 2.0284444444444444e-05,\n",
       " 21: 2.1329777777777776e-05,\n",
       " 22: 2.2353777777777778e-05,\n",
       " 23: 2.2915555555555556e-05,\n",
       " 24: 2.3868444444444442e-05,\n",
       " 25: 2.4785777777777778e-05,\n",
       " 26: 2.5340444444444444e-05}"
      ]
     },
     "execution_count": 61,
     "metadata": {},
     "output_type": "execute_result"
    }
   ],
   "source": [
    "bv_durations = {i: circuit_duration_from_calibration_data.circuit_duration(circuits[i], prop, unit='s') for i in range(len(rawdata['base_circs']))}\n",
    "bv_durations"
   ]
  },
  {
   "cell_type": "markdown",
   "metadata": {},
   "source": [
    "## Compute TTS"
   ]
  },
  {
   "cell_type": "markdown",
   "metadata": {},
   "source": [
    "Given a dataframe with the sucess probabilities and the time taken to acquire those probabilities we can compute the TTS. By default, tts will be computed in the $log_{10}$ basis."
   ]
  },
  {
   "cell_type": "code",
   "execution_count": 63,
   "metadata": {},
   "outputs": [
    {
     "data": {
      "text/html": [
       "<div>\n",
       "<style scoped>\n",
       "    .dataframe tbody tr th:only-of-type {\n",
       "        vertical-align: middle;\n",
       "    }\n",
       "\n",
       "    .dataframe tbody tr th {\n",
       "        vertical-align: top;\n",
       "    }\n",
       "\n",
       "    .dataframe thead th {\n",
       "        text-align: right;\n",
       "    }\n",
       "</style>\n",
       "<table border=\"1\" class=\"dataframe\">\n",
       "  <thead>\n",
       "    <tr style=\"text-align: right;\">\n",
       "      <th></th>\n",
       "      <th>free</th>\n",
       "      <th>ur_14</th>\n",
       "    </tr>\n",
       "  </thead>\n",
       "  <tbody>\n",
       "    <tr>\n",
       "      <th>00</th>\n",
       "      <td>0.978344</td>\n",
       "      <td>0.985719</td>\n",
       "    </tr>\n",
       "    <tr>\n",
       "      <th>10</th>\n",
       "      <td>0.733812</td>\n",
       "      <td>0.786438</td>\n",
       "    </tr>\n",
       "    <tr>\n",
       "      <th>11</th>\n",
       "      <td>0.746938</td>\n",
       "      <td>0.726812</td>\n",
       "    </tr>\n",
       "  </tbody>\n",
       "</table>\n",
       "</div>"
      ],
      "text/plain": [
       "        free     ur_14\n",
       "00  0.978344  0.985719\n",
       "10  0.733812  0.786438\n",
       "11  0.746938  0.726812"
      ]
     },
     "execution_count": 63,
     "metadata": {},
     "output_type": "execute_result"
    }
   ],
   "source": [
    "ps_df_lst[1]"
   ]
  },
  {
   "cell_type": "code",
   "execution_count": 72,
   "metadata": {},
   "outputs": [
    {
     "data": {
      "text/html": [
       "<div>\n",
       "<style scoped>\n",
       "    .dataframe tbody tr th:only-of-type {\n",
       "        vertical-align: middle;\n",
       "    }\n",
       "\n",
       "    .dataframe tbody tr th {\n",
       "        vertical-align: top;\n",
       "    }\n",
       "\n",
       "    .dataframe thead th {\n",
       "        text-align: right;\n",
       "    }\n",
       "</style>\n",
       "<table border=\"1\" class=\"dataframe\">\n",
       "  <thead>\n",
       "    <tr style=\"text-align: right;\">\n",
       "      <th></th>\n",
       "      <th>free</th>\n",
       "      <th>ur_14</th>\n",
       "    </tr>\n",
       "  </thead>\n",
       "  <tbody>\n",
       "    <tr>\n",
       "      <th>00</th>\n",
       "      <td>-5.198183</td>\n",
       "      <td>-5.242973</td>\n",
       "    </tr>\n",
       "    <tr>\n",
       "      <th>10</th>\n",
       "      <td>-4.702655</td>\n",
       "      <td>-4.769512</td>\n",
       "    </tr>\n",
       "    <tr>\n",
       "      <th>11</th>\n",
       "      <td>-4.691638</td>\n",
       "      <td>-4.666753</td>\n",
       "    </tr>\n",
       "  </tbody>\n",
       "</table>\n",
       "</div>"
      ],
      "text/plain": [
       "        free     ur_14\n",
       "00 -5.198183 -5.242973\n",
       "10 -4.702655 -4.769512\n",
       "11 -4.691638 -4.666753"
      ]
     },
     "execution_count": 72,
     "metadata": {},
     "output_type": "execute_result"
    }
   ],
   "source": [
    "tts_from_rawdf.tts_df(ps_df_lst[1], bv_durations)"
   ]
  },
  {
   "cell_type": "markdown",
   "metadata": {},
   "source": [
    "We can then compute the average TTS from the list above."
   ]
  },
  {
   "cell_type": "code",
   "execution_count": 76,
   "metadata": {},
   "outputs": [
    {
     "data": {
      "text/plain": [
       "free    -4.823783\n",
       "ur_14   -4.862187\n",
       "dtype: float64"
      ]
     },
     "execution_count": 76,
     "metadata": {},
     "output_type": "execute_result"
    }
   ],
   "source": [
    "tts_from_rawdf.tts_average(ps_df_lst[1], bv_durations)"
   ]
  },
  {
   "cell_type": "markdown",
   "metadata": {},
   "source": [
    "Finally we can compute the TTS for all problem sizes."
   ]
  },
  {
   "cell_type": "code",
   "execution_count": 86,
   "metadata": {},
   "outputs": [],
   "source": [
    "tts_all = tts_from_rawdf.tts_average_for_all_n(ps_df_lst, bv_durations)"
   ]
  },
  {
   "cell_type": "code",
   "execution_count": 91,
   "metadata": {},
   "outputs": [
    {
     "data": {
      "image/png": "[encoded data removed]",
      "text/plain": [
       "<Figure size 432x288 with 1 Axes>"
      ]
     },
     "metadata": {
      "needs_background": "light"
     },
     "output_type": "display_data"
    }
   ],
   "source": [
    "plt.plot(tts_all[\"free\"])\n",
    "plt.plot(tts_all[\"ur_14\"])\n",
    "plt.xlabel(\"n\")\n",
    "plt.ylabel(\"log10(TTS)\")\n",
    "plt.show()"
   ]
  },
  {
   "cell_type": "markdown",
   "metadata": {},
   "source": [
    "All the steps above can be combined to a single function."
   ]
  },
  {
   "cell_type": "code",
   "execution_count": 101,
   "metadata": {},
   "outputs": [
    {
     "name": "stderr",
     "output_type": "stream",
     "text": [
      "100%|██████████| 26/26 [00:54<00:00,  2.11s/it]\n"
     ]
    },
    {
     "data": {
      "text/html": [
       "<div>\n",
       "<style scoped>\n",
       "    .dataframe tbody tr th:only-of-type {\n",
       "        vertical-align: middle;\n",
       "    }\n",
       "\n",
       "    .dataframe tbody tr th {\n",
       "        vertical-align: top;\n",
       "    }\n",
       "\n",
       "    .dataframe thead th {\n",
       "        text-align: right;\n",
       "    }\n",
       "</style>\n",
       "<table border=\"1\" class=\"dataframe\">\n",
       "  <thead>\n",
       "    <tr style=\"text-align: right;\">\n",
       "      <th></th>\n",
       "      <th>free</th>\n",
       "      <th>ur_14</th>\n",
       "      <th>super_cpmg</th>\n",
       "    </tr>\n",
       "  </thead>\n",
       "  <tbody>\n",
       "    <tr>\n",
       "      <th>1</th>\n",
       "      <td>-4.988340</td>\n",
       "      <td>-5.047645</td>\n",
       "      <td>-5.067313</td>\n",
       "    </tr>\n",
       "    <tr>\n",
       "      <th>2</th>\n",
       "      <td>-4.823783</td>\n",
       "      <td>-4.862187</td>\n",
       "      <td>-4.886111</td>\n",
       "    </tr>\n",
       "    <tr>\n",
       "      <th>3</th>\n",
       "      <td>-4.673402</td>\n",
       "      <td>-4.725843</td>\n",
       "      <td>-4.751220</td>\n",
       "    </tr>\n",
       "    <tr>\n",
       "      <th>4</th>\n",
       "      <td>-4.534650</td>\n",
       "      <td>-4.622793</td>\n",
       "      <td>-4.641687</td>\n",
       "    </tr>\n",
       "    <tr>\n",
       "      <th>5</th>\n",
       "      <td>-4.377012</td>\n",
       "      <td>-4.518849</td>\n",
       "      <td>-4.537293</td>\n",
       "    </tr>\n",
       "    <tr>\n",
       "      <th>6</th>\n",
       "      <td>-4.205324</td>\n",
       "      <td>-4.413483</td>\n",
       "      <td>-4.437927</td>\n",
       "    </tr>\n",
       "    <tr>\n",
       "      <th>7</th>\n",
       "      <td>-4.030745</td>\n",
       "      <td>-4.310671</td>\n",
       "      <td>-4.339981</td>\n",
       "    </tr>\n",
       "    <tr>\n",
       "      <th>8</th>\n",
       "      <td>-3.845332</td>\n",
       "      <td>-4.205025</td>\n",
       "      <td>-4.240593</td>\n",
       "    </tr>\n",
       "    <tr>\n",
       "      <th>9</th>\n",
       "      <td>-3.634972</td>\n",
       "      <td>-4.097044</td>\n",
       "      <td>-4.132943</td>\n",
       "    </tr>\n",
       "    <tr>\n",
       "      <th>10</th>\n",
       "      <td>-3.389340</td>\n",
       "      <td>-3.980923</td>\n",
       "      <td>-4.017687</td>\n",
       "    </tr>\n",
       "    <tr>\n",
       "      <th>11</th>\n",
       "      <td>-3.130441</td>\n",
       "      <td>-3.856806</td>\n",
       "      <td>-3.892987</td>\n",
       "    </tr>\n",
       "    <tr>\n",
       "      <th>12</th>\n",
       "      <td>-2.851549</td>\n",
       "      <td>-3.730715</td>\n",
       "      <td>-3.758559</td>\n",
       "    </tr>\n",
       "    <tr>\n",
       "      <th>13</th>\n",
       "      <td>-2.574171</td>\n",
       "      <td>-3.590916</td>\n",
       "      <td>-3.616898</td>\n",
       "    </tr>\n",
       "    <tr>\n",
       "      <th>14</th>\n",
       "      <td>-2.274291</td>\n",
       "      <td>-3.453837</td>\n",
       "      <td>-3.460507</td>\n",
       "    </tr>\n",
       "    <tr>\n",
       "      <th>15</th>\n",
       "      <td>-1.945984</td>\n",
       "      <td>-3.306083</td>\n",
       "      <td>-3.301127</td>\n",
       "    </tr>\n",
       "    <tr>\n",
       "      <th>16</th>\n",
       "      <td>-1.620695</td>\n",
       "      <td>-3.146617</td>\n",
       "      <td>-3.138316</td>\n",
       "    </tr>\n",
       "    <tr>\n",
       "      <th>17</th>\n",
       "      <td>-1.242144</td>\n",
       "      <td>-2.978842</td>\n",
       "      <td>-2.965273</td>\n",
       "    </tr>\n",
       "    <tr>\n",
       "      <th>18</th>\n",
       "      <td>NaN</td>\n",
       "      <td>-2.807544</td>\n",
       "      <td>-2.784427</td>\n",
       "    </tr>\n",
       "    <tr>\n",
       "      <th>19</th>\n",
       "      <td>NaN</td>\n",
       "      <td>-2.635119</td>\n",
       "      <td>-2.599700</td>\n",
       "    </tr>\n",
       "    <tr>\n",
       "      <th>20</th>\n",
       "      <td>NaN</td>\n",
       "      <td>-2.466143</td>\n",
       "      <td>-2.398584</td>\n",
       "    </tr>\n",
       "    <tr>\n",
       "      <th>21</th>\n",
       "      <td>NaN</td>\n",
       "      <td>-2.295501</td>\n",
       "      <td>-2.208062</td>\n",
       "    </tr>\n",
       "    <tr>\n",
       "      <th>22</th>\n",
       "      <td>NaN</td>\n",
       "      <td>-2.116200</td>\n",
       "      <td>-2.008626</td>\n",
       "    </tr>\n",
       "    <tr>\n",
       "      <th>23</th>\n",
       "      <td>NaN</td>\n",
       "      <td>-1.929479</td>\n",
       "      <td>-1.802360</td>\n",
       "    </tr>\n",
       "    <tr>\n",
       "      <th>24</th>\n",
       "      <td>NaN</td>\n",
       "      <td>-1.740127</td>\n",
       "      <td>-1.597844</td>\n",
       "    </tr>\n",
       "    <tr>\n",
       "      <th>25</th>\n",
       "      <td>NaN</td>\n",
       "      <td>-1.566855</td>\n",
       "      <td>NaN</td>\n",
       "    </tr>\n",
       "    <tr>\n",
       "      <th>26</th>\n",
       "      <td>NaN</td>\n",
       "      <td>-1.413825</td>\n",
       "      <td>NaN</td>\n",
       "    </tr>\n",
       "  </tbody>\n",
       "</table>\n",
       "</div>"
      ],
      "text/plain": [
       "        free     ur_14  super_cpmg\n",
       "1  -4.988340 -5.047645   -5.067313\n",
       "2  -4.823783 -4.862187   -4.886111\n",
       "3  -4.673402 -4.725843   -4.751220\n",
       "4  -4.534650 -4.622793   -4.641687\n",
       "5  -4.377012 -4.518849   -4.537293\n",
       "6  -4.205324 -4.413483   -4.437927\n",
       "7  -4.030745 -4.310671   -4.339981\n",
       "8  -3.845332 -4.205025   -4.240593\n",
       "9  -3.634972 -4.097044   -4.132943\n",
       "10 -3.389340 -3.980923   -4.017687\n",
       "11 -3.130441 -3.856806   -3.892987\n",
       "12 -2.851549 -3.730715   -3.758559\n",
       "13 -2.574171 -3.590916   -3.616898\n",
       "14 -2.274291 -3.453837   -3.460507\n",
       "15 -1.945984 -3.306083   -3.301127\n",
       "16 -1.620695 -3.146617   -3.138316\n",
       "17 -1.242144 -2.978842   -2.965273\n",
       "18       NaN -2.807544   -2.784427\n",
       "19       NaN -2.635119   -2.599700\n",
       "20       NaN -2.466143   -2.398584\n",
       "21       NaN -2.295501   -2.208062\n",
       "22       NaN -2.116200   -2.008626\n",
       "23       NaN -1.929479   -1.802360\n",
       "24       NaN -1.740127   -1.597844\n",
       "25       NaN -1.566855         NaN\n",
       "26       NaN -1.413825         NaN"
      ]
     },
     "execution_count": 101,
     "metadata": {},
     "output_type": "execute_result"
    }
   ],
   "source": [
    "tts_from_rawdf.tts_from_rawdf(rawdf, bv_durations)"
   ]
  }
 ],
 "metadata": {
  "interpreter": {
   "hash": "30e6bbf95c128aeb7a086e323e698e0f406da5bdf0776795592d36fc229a6ae1"
  },
  "kernelspec": {
   "display_name": "Python 3.9.12 ('py39')",
   "language": "python",
   "name": "python3"
  },
  "language_info": {
   "codemirror_mode": {
    "name": "ipython",
    "version": 3
   },
   "file_extension": ".py",
   "mimetype": "text/x-python",
   "name": "python",
   "nbconvert_exporter": "python",
   "pygments_lexer": "ipython3",
   "version": "3.9.12"
  },
  "orig_nbformat": 4
 },
 "nbformat": 4,
 "nbformat_minor": 2
}
