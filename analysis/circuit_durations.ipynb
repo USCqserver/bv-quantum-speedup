{
 "cells": [
  {
   "cell_type": "markdown",
   "metadata": {},
   "source": [
    "Please read `tts_calculation_without_bootstrapping.ipynb` to understand how circuit durations are incorporated when calculating TTS.\n",
    "\n",
    "Here we focus on simply computing the circuit duration given the circuits and the calibration information."
   ]
  },
  {
   "cell_type": "markdown",
   "metadata": {},
   "source": [
    "# Example"
   ]
  },
  {
   "cell_type": "code",
   "execution_count": 1,
   "metadata": {},
   "outputs": [],
   "source": [
    "#allow for autoreload of packages\n",
    "%load_ext autoreload\n",
    "%autoreload 2"
   ]
  },
  {
   "cell_type": "code",
   "execution_count": 2,
   "metadata": {},
   "outputs": [],
   "source": [
    "import pickle\n",
    "import circuit_duration_from_calibration_data\n",
    "from tqdm import tqdm\n",
    "import matplotlib.pyplot as plt"
   ]
  },
  {
   "cell_type": "code",
   "execution_count": 3,
   "metadata": {},
   "outputs": [],
   "source": [
    "machine_long = 'ibmq_montreal' #backend identifier\n",
    "machine_short = 'montreal'\n",
    "seq1 = 'ur14'\n",
    "seq2 = 'supercpmg'\n",
    "embedding = 2 #logical-to-physical embedding\n",
    "date = 20220412\n",
    "rawdata_fname = f\"./../data/{machine_long}/{date}/rawdata_{machine_short}_dd-{seq1}-{seq2}_marks-all_embedding-{embedding}.p\"\n",
    "file = open(rawdata_fname, 'rb')\n",
    "rawdata = pickle.load(file)\n",
    "file.close()"
   ]
  },
  {
   "cell_type": "code",
   "execution_count": 4,
   "metadata": {},
   "outputs": [],
   "source": [
    "prop = rawdata['calibration_data']\n",
    "circuits = rawdata['base_circs']\n"
   ]
  },
  {
   "cell_type": "markdown",
   "metadata": {},
   "source": [
    "Below is an example of circuit duration computed for a single circuit."
   ]
  },
  {
   "cell_type": "code",
   "execution_count": 5,
   "metadata": {},
   "outputs": [
    {
     "data": {
      "text/plain": [
       "58256"
      ]
     },
     "execution_count": 5,
     "metadata": {},
     "output_type": "execute_result"
    }
   ],
   "source": [
    "qc_test = circuits[10]\n",
    "circuit_duration_from_calibration_data.circuit_duration(qc_test, prop)"
   ]
  },
  {
   "cell_type": "code",
   "execution_count": 6,
   "metadata": {},
   "outputs": [
    {
     "data": {
      "text/plain": [
       "{0: 5.2728888888888885e-06,\n",
       " 1: 5.699555555555556e-06,\n",
       " 2: 6.069333333333333e-06,\n",
       " 3: 7.178666666666666e-06,\n",
       " 4: 8.195555555555556e-06,\n",
       " 5: 8.600888888888889e-06,\n",
       " 6: 9.503999999999999e-06,\n",
       " 7: 1.0442666666666666e-05,\n",
       " 8: 1.1331555555555554e-05,\n",
       " 9: 1.2334222222222222e-05,\n",
       " 10: 1.2945777777777778e-05,\n",
       " 11: 1.3955555555555555e-05,\n",
       " 12: 1.4673777777777777e-05,\n",
       " 13: 1.4944e-05,\n",
       " 14: 1.5676444444444444e-05,\n",
       " 15: 1.640888888888889e-05,\n",
       " 16: 1.7340444444444443e-05,\n",
       " 17: 1.8229333333333332e-05,\n",
       " 18: 1.8584888888888887e-05,\n",
       " 19: 1.9445333333333332e-05,\n",
       " 20: 2.0284444444444444e-05,\n",
       " 21: 2.1329777777777776e-05,\n",
       " 22: 2.2353777777777778e-05,\n",
       " 23: 2.2915555555555556e-05,\n",
       " 24: 2.3868444444444442e-05,\n",
       " 25: 2.4785777777777778e-05,\n",
       " 26: 2.5340444444444444e-05}"
      ]
     },
     "execution_count": 6,
     "metadata": {},
     "output_type": "execute_result"
    }
   ],
   "source": [
    "bv_durations = {i: circuit_duration_from_calibration_data.circuit_duration(circuits[i], prop, unit='s') for i in range(len(rawdata['base_circs']))}\n",
    "bv_durations"
   ]
  },
  {
   "cell_type": "markdown",
   "metadata": {},
   "source": [
    "# Export the circuit duration for  all datasets"
   ]
  },
  {
   "cell_type": "code",
   "execution_count": 7,
   "metadata": {},
   "outputs": [],
   "source": [
    "data_files = [\"../data/ibm_cairo/20220412/rawdata_cairo_dd-ur18-ur42_marks-all_embedding-2.p\",\n",
    "\"../data/ibm_cairo/20220412/rawdata_cairo_dd-rga32a-ur38_marks-all_embedding-2.p\",\n",
    "\"../data/ibm_cairo/20220102/rawdata_cairo_dd-xyxy-ur10_marks-all_embedding-1.p\",\n",
    "\"../data/ibmq_montreal/20220412/rawdata_montreal_dd-ur14-supercpmg_marks-all_embedding-2.p\",\n",
    "\"../data/ibmq_montreal/20220412/rawdata_montreal_dd-xy4-supereuler_marks-all_embedding-2.p\"]\n",
    "\n",
    "for f in data_files:\n",
    "    circuit_duration_from_calibration_data.export_circuit_duration_from_rawdata(f)"
   ]
  }
 ],
 "metadata": {
  "interpreter": {
   "hash": "30e6bbf95c128aeb7a086e323e698e0f406da5bdf0776795592d36fc229a6ae1"
  },
  "kernelspec": {
   "display_name": "Python 3.9.12 ('py39')",
   "language": "python",
   "name": "python3"
  },
  "language_info": {
   "codemirror_mode": {
    "name": "ipython",
    "version": 3
   },
   "file_extension": ".py",
   "mimetype": "text/x-python",
   "name": "python",
   "nbconvert_exporter": "python",
   "pygments_lexer": "ipython3",
   "version": "3.9.12"
  },
  "orig_nbformat": 4
 },
 "nbformat": 4,
 "nbformat_minor": 2
}
