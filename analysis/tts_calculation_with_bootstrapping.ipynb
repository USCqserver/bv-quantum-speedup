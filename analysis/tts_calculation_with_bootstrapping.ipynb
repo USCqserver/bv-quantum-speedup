{
 "cells": [
  {
   "cell_type": "markdown",
   "metadata": {},
   "source": [
    "Please read `tts_calculation_without_bootstrapping.ipynb` to understand the individual\n",
    "steps taken  in going from the raw data to the time to solution. This notebook will \n",
    "focus on combining the TTS calculation with bootstrapping."
   ]
  },
  {
   "cell_type": "code",
   "execution_count": null,
   "metadata": {},
   "outputs": [],
   "source": []
  }
 ],
 "metadata": {
  "interpreter": {
   "hash": "30e6bbf95c128aeb7a086e323e698e0f406da5bdf0776795592d36fc229a6ae1"
  },
  "kernelspec": {
   "display_name": "Python 3.9.12 ('py39')",
   "language": "python",
   "name": "python3"
  },
  "language_info": {
   "codemirror_mode": {
    "name": "ipython",
    "version": 3
   },
   "file_extension": ".py",
   "mimetype": "text/x-python",
   "name": "python",
   "nbconvert_exporter": "python",
   "pygments_lexer": "ipython3",
   "version": "3.9.12"
  },
  "orig_nbformat": 4
 },
 "nbformat": 4,
 "nbformat_minor": 2
}
